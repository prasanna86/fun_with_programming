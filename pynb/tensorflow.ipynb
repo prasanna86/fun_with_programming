{
 "cells": [
  {
   "cell_type": "code",
   "execution_count": 6,
   "metadata": {},
   "outputs": [],
   "source": [
    "import tensorflow as tf\n",
    "\n",
    "# create a session\n",
    "session = tf.Session()\n",
    "\n",
    "# parameters \n",
    "learning_rate = 0.1 \n",
    "num_steps = 500 \n",
    "batch_size = 128 \n",
    "display_step = 100\n",
    "\n",
    "\n",
    "# network parameters\n",
    "num_input = 6     # [cocoa%, bean origin, country origin, company, barname, year]\n",
    "n_hidden_1 = 3    # 1st layer number of neurons\n",
    "\n",
    "# tf Graph input\n",
    "X = tf.placeholder(\"float\", [None, num_input])\n",
    "\n",
    "# Store layers weight & bias\n",
    "weights = { \n",
    "  'h1': tf.Variable(tf.random_normal([num_input, n_hidden_1])), \n",
    "  'out': tf.Variable(tf.random_normal([n_hidden_1, 1])) \n",
    "} \n",
    "biases = { \n",
    "  'b1': tf.Variable(tf.random_normal([n_hidden_1])), \n",
    "  'out': tf.Variable(tf.random_normal([1])) \n",
    "}"
   ]
  },
  {
   "cell_type": "code",
   "execution_count": null,
   "metadata": {
    "collapsed": true
   },
   "outputs": [],
   "source": []
  }
 ],
 "metadata": {
  "kernelspec": {
   "display_name": "Python 3",
   "language": "python",
   "name": "python3"
  },
  "language_info": {
   "codemirror_mode": {
    "name": "ipython",
    "version": 2
   },
   "file_extension": ".py",
   "mimetype": "text/x-python",
   "name": "python",
   "nbconvert_exporter": "python",
   "pygments_lexer": "ipython2",
   "version": "2.7.6"
  }
 },
 "nbformat": 4,
 "nbformat_minor": 2
}
