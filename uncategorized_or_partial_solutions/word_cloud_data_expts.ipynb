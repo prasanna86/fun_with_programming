{
 "cells": [
  {
   "cell_type": "code",
   "execution_count": 38,
   "metadata": {},
   "outputs": [],
   "source": [
    "import unittest\n",
    "class WordCloudData(object):\n",
    "    def __init__(self, input_string):\n",
    "        self.words_to_counts = {}\n",
    "        self.find_word_cloud(input_string)\n",
    "\n",
    "    def split_words(self, input_string):\n",
    "        output_string = ''\n",
    "        for char in input_string:\n",
    "            if char.isalpha() or char in {' ', ' \\''}:\n",
    "                output_string = output_string + str(char)\n",
    "        return output_string.split()\n",
    "    \n",
    "    def add_words_to_dict(self, word_list):\n",
    "        for word in word_list:\n",
    "            if word.lower() in self.words_to_counts.keys():\n",
    "                self.words_to_counts[word] += 1\n",
    "            else:\n",
    "                self.words_to_counts[word] = 1\n",
    "                \n",
    "    def find_word_cloud(self, input_string):\n",
    "        word_list = self.split_words(input_string)\n",
    "        self.add_words_to_dict(word_list)"
   ]
  },
  {
   "cell_type": "code",
   "execution_count": 39,
   "metadata": {},
   "outputs": [
    {
     "name": "stderr",
     "output_type": "stream",
     "text": [
      "/run/user/1000/jupyter/kernel-c6228931-7d1c-4c0e-a0a0-e76c535321e0 (unittest.loader._FailedTest) ... ERROR\n",
      "\n",
      "======================================================================\n",
      "ERROR: /run/user/1000/jupyter/kernel-c6228931-7d1c-4c0e-a0a0-e76c535321e0 (unittest.loader._FailedTest)\n",
      "----------------------------------------------------------------------\n",
      "AttributeError: module '__main__' has no attribute '/run/user/1000/jupyter/kernel-c6228931-7d1c-4c0e-a0a0-e76c535321e0'\n",
      "\n",
      "----------------------------------------------------------------------\n",
      "Ran 1 test in 0.003s\n",
      "\n",
      "FAILED (errors=1)\n"
     ]
    },
    {
     "ename": "SystemExit",
     "evalue": "True",
     "output_type": "error",
     "traceback": [
      "An exception has occurred, use %tb to see the full traceback.\n",
      "\u001b[0;31mSystemExit\u001b[0m\u001b[0;31m:\u001b[0m True\n"
     ]
    },
    {
     "name": "stderr",
     "output_type": "stream",
     "text": [
      "/home/prasanna/software/miniconda3/envs/tdi/lib/python3.7/site-packages/IPython/core/interactiveshell.py:3304: UserWarning: To exit: use 'exit', 'quit', or Ctrl-D.\n",
      "  warn(\"To exit: use 'exit', 'quit', or Ctrl-D.\", stacklevel=1)\n"
     ]
    }
   ],
   "source": [
    "class Test(unittest.TestCase):\n",
    "\n",
    "    def test_simple_sentence(self):\n",
    "        input = 'I like cake'\n",
    "\n",
    "        word_cloud = WordCloudData(input)\n",
    "        actual = word_cloud.words_to_counts\n",
    "\n",
    "        expected = {'I': 1, 'like': 1, 'cake': 1}\n",
    "        self.assertEqual(actual, expected)\n",
    "\n",
    "    def test_longer_sentence(self):\n",
    "        input = 'Chocolate cake for dinner and pound cake for dessert'\n",
    "\n",
    "        word_cloud = WordCloudData(input)\n",
    "        actual = word_cloud.words_to_counts\n",
    "\n",
    "        expected = {\n",
    "            'and': 1,\n",
    "            'pound': 1,\n",
    "            'for': 2,\n",
    "            'dessert': 1,\n",
    "            'Chocolate': 1,\n",
    "            'dinner': 1,\n",
    "            'cake': 2,\n",
    "        }\n",
    "        self.assertEqual(actual, expected)\n",
    "\n",
    "    def test_punctuation(self):\n",
    "        input = 'Strawberry short cake? Yum!'\n",
    "\n",
    "        word_cloud = WordCloudData(input)\n",
    "        actual = word_cloud.words_to_counts\n",
    "\n",
    "        expected = {'cake': 1, 'Strawberry': 1, 'short': 1, 'Yum': 1}\n",
    "        self.assertEqual(actual, expected)\n",
    "\n",
    "    def test_hyphenated_words(self):\n",
    "        input = 'Dessert - mille-feuille cake'\n",
    "\n",
    "        word_cloud = WordCloudData(input)\n",
    "        actual = word_cloud.words_to_counts\n",
    "\n",
    "        expected = {'cake': 1, 'Dessert': 1, 'mille-feuille': 1}\n",
    "        self.assertEqual(actual, expected)\n",
    "\n",
    "    def test_ellipses_between_words(self):\n",
    "        input = 'Mmm...mmm...decisions...decisions'\n",
    "\n",
    "        word_cloud = WordCloudData(input)\n",
    "        actual = word_cloud.words_to_counts\n",
    "\n",
    "        expected = {'mmm': 2, 'decisions': 2}\n",
    "        self.assertEqual(actual, expected)\n",
    "\n",
    "    def test_apostrophes(self):\n",
    "        input = \"Allie's Bakery: Sasha's Cakes\"\n",
    "\n",
    "        word_cloud = WordCloudData(input)\n",
    "        actual = word_cloud.words_to_counts\n",
    "\n",
    "        expected = {\"Bakery\": 1, \"Cakes\": 1, \"Allie's\": 1, \"Sasha's\": 1}\n",
    "        self.assertEqual(actual, expected)\n",
    "\n",
    "\n",
    "unittest.main(verbosity=2)"
   ]
  },
  {
   "cell_type": "code",
   "execution_count": 30,
   "metadata": {},
   "outputs": [
    {
     "ename": "SyntaxError",
     "evalue": "invalid syntax (<ipython-input-30-a1045781bb81>, line 1)",
     "output_type": "error",
     "traceback": [
      "\u001b[0;36m  File \u001b[0;32m\"<ipython-input-30-a1045781bb81>\"\u001b[0;36m, line \u001b[0;32m1\u001b[0m\n\u001b[0;31m    word_list obj.split_words('Philately: a stamp collector\\'s paradise')\u001b[0m\n\u001b[0m                ^\u001b[0m\n\u001b[0;31mSyntaxError\u001b[0m\u001b[0;31m:\u001b[0m invalid syntax\n"
     ]
    }
   ],
   "source": [
    "obj."
   ]
  },
  {
   "cell_type": "code",
   "execution_count": null,
   "metadata": {},
   "outputs": [],
   "source": []
  }
 ],
 "metadata": {
  "kernelspec": {
   "display_name": "Python 3",
   "language": "python",
   "name": "python3"
  },
  "language_info": {
   "codemirror_mode": {
    "name": "ipython",
    "version": 3
   },
   "file_extension": ".py",
   "mimetype": "text/x-python",
   "name": "python",
   "nbconvert_exporter": "python",
   "pygments_lexer": "ipython3",
   "version": "3.7.3"
  }
 },
 "nbformat": 4,
 "nbformat_minor": 4
}
